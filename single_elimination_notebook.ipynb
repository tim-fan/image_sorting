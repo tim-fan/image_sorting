{
 "cells": [
  {
   "cell_type": "code",
   "execution_count": 1,
   "metadata": {},
   "outputs": [],
   "source": [
    "import ipywidgets as widgets\n",
    "from IPython.display import clear_output\n",
    "import glob\n",
    "from single_elimination import run_tournament\n",
    "from pathlib import Path\n",
    "import shutil"
   ]
  },
  {
   "cell_type": "code",
   "execution_count": 2,
   "metadata": {},
   "outputs": [],
   "source": [
    "def read_file(filename):\n",
    "    with open(filename, \"rb\") as f:\n",
    "        return f.read()\n",
    "\n",
    "class ImageComparisonManager:\n",
    "    \"\"\"\n",
    "    Faciliates the comparison of images.\n",
    "    Creates two image widgets. On call to img_compare, the\n",
    "    widgets are updated with the two given images, and\n",
    "    the user is prompted to select the best one.\n",
    "    The widgets can be shown with a call to 'display'\n",
    "    \"\"\"\n",
    "\n",
    "    def __init__(self):\n",
    "        self._im_widget_1 = widgets.Image(\n",
    "            value=b'',\n",
    "            format='jpg',\n",
    "        )\n",
    "        self._im_widget_2 = widgets.Image(\n",
    "            value=b'',\n",
    "            format='jpg',\n",
    "        )\n",
    "    def display(self):\n",
    "        display(\n",
    "            widgets.HBox([\n",
    "                widgets.Box([self._im_widget_1]),\n",
    "                widgets.Box([self._im_widget_2])\n",
    "            ])\n",
    "        )\n",
    "\n",
    "    def img_compare(self, image1_path, image2_path):\n",
    "        \"\"\"\n",
    "        \"\"\"\n",
    "        self._im_widget_1.value = read_file(image1_path)\n",
    "        self._im_widget_2.value = read_file(image2_path)\n",
    "        winner = None\n",
    "        while winner is None:\n",
    "            user_in = input(\"Which is best (a or b)?\\n\")\n",
    "            clear_output(wait=True)\n",
    "            if user_in == \"a\":\n",
    "                winner = image1_path\n",
    "            elif user_in == \"b\": \n",
    "                winner = image2_path\n",
    "        \n",
    "        return winner\n",
    "        "
   ]
  },
  {
   "cell_type": "code",
   "execution_count": 3,
   "metadata": {},
   "outputs": [
    {
     "data": {
      "application/vnd.jupyter.widget-view+json": {
       "model_id": "84e2ffeedab14be7b873ddf3769dae34",
       "version_major": 2,
       "version_minor": 0
      },
      "text/plain": [
       "HBox(children=(Box(children=(Image(value=b'', format='jpg'),)), Box(children=(Image(value=b'', format='jpg'),)…"
      ]
     },
     "metadata": {},
     "output_type": "display_data"
    }
   ],
   "source": [
    "comparison_manager = ImageComparisonManager()\n",
    "comparison_manager.display()"
   ]
  },
  {
   "cell_type": "code",
   "execution_count": null,
   "metadata": {},
   "outputs": [
    {
     "name": "stdout",
     "output_type": "stream",
     "text": [
      "Which is best (a or b)?\n",
      "b\n"
     ]
    }
   ],
   "source": [
    "image_paths = glob.glob('./test_images/*.jpg')\n",
    "winners = run_tournament(image_paths, compare=comparison_manager.img_compare, best_n=20)"
   ]
  },
  {
   "cell_type": "code",
   "execution_count": null,
   "metadata": {},
   "outputs": [],
   "source": [
    "winners"
   ]
  },
  {
   "cell_type": "code",
   "execution_count": null,
   "metadata": {},
   "outputs": [],
   "source": [
    "def save_winners_to_subdir(winners):\n",
    "    Path(\"winners\").mkdir(parents=True, exist_ok=True)\n",
    "    for file in winners:\n",
    "        shutil.copy(file, \"winners/\")\n",
    "save_winners_to_subdir(winners)"
   ]
  }
 ],
 "metadata": {
  "kernelspec": {
   "display_name": "Python 3",
   "language": "python",
   "name": "python3"
  },
  "language_info": {
   "codemirror_mode": {
    "name": "ipython",
    "version": 3
   },
   "file_extension": ".py",
   "mimetype": "text/x-python",
   "name": "python",
   "nbconvert_exporter": "python",
   "pygments_lexer": "ipython3",
   "version": "3.5.2"
  }
 },
 "nbformat": 4,
 "nbformat_minor": 4
}
